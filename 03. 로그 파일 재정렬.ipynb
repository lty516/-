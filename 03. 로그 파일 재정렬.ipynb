{
 "cells": [
  {
   "cell_type": "markdown",
   "metadata": {},
   "source": [
    "### 937. Reorder Data in Log Files\n",
    "---\n",
    "You have an array of logs.  Each log is a space delimited string of words.\n",
    "\n",
    "For each log, the first word in each log is an alphanumeric identifier.  Then, either:\n",
    "\n",
    "Each word after the identifier will consist only of lowercase letters, or;\n",
    "Each word after the identifier will consist only of digits.\n",
    "We will call these two varieties of logs letter-logs and digit-logs.  It is guaranteed that each log has at least one word after its identifier.\n",
    "\n",
    "Reorder the logs so that all of the letter-logs come before any digit-log.  The letter-logs are ordered lexicographically ignoring identifier, with the identifier used in case of ties.  The digit-logs should be put in their original order.\n",
    "\n",
    "Return the final order of the logs.\n",
    "\n",
    " \n",
    "\n",
    "Example 1:\n",
    "\n",
    "Input: logs = [\"dig1 8 1 5 1\",\"let1 art can\",\"dig2 3 6\",\"let2 own kit dig\",\"let3 art zero\"]\n",
    "Output: [\"let1 art can\",\"let3 art zero\",\"let2 own kit dig\",\"dig1 8 1 5 1\",\"dig2 3 6\"]\n",
    " \n",
    "\n",
    "Constraints:\n",
    "\n",
    "0 <= logs.length <= 100\n",
    "3 <= logs[i].length <= 100\n",
    "logs[i] is guaranteed to have an identifier, and a word after the identifier.\n"
   ]
  },
  {
   "cell_type": "markdown",
   "metadata": {},
   "source": [
    "### 로그 파일 재정렬\n",
    "---\n",
    "#### 로그를 재정렬하라. 기준은 다음과 같다.\n",
    "\n",
    "1. 로그의 가장 앞부분은 식별자다.\n",
    "2. 문자로 구성된 로그가 숫자 로그보다 앞에 온다.\n",
    "3. 식별자는 순서에 영향을 끼치지 않지만, 문자가 동일할 경우 식별자 순으로 한다.\n",
    "4. 수자 로그는 입력순서대로한다.\n"
   ]
  },
  {
   "cell_type": "markdown",
   "metadata": {},
   "source": [
    " ###  1. 람다와 + 연산자를 사용\n",
    " \n",
    " 요구 조건을 얼마나 깔끔하게 처리할 수 있는지를 묻는 문제다. 실무에서도 이 같은 로직은 자주 쓰이는 만큼 매우 실용적인 문제로 볼 수 있다.\n",
    " \n",
    " 먼저, 문자로 구성된 고그가 숫자 로그보다 이전에 오며, 숫자 로그는 입력 순서대로 둔다. 그렇다면 문자와 숫자를 구분하고, 숫자는 나중에 그래로 이어 붙인다. 로그 자체는 숫자 로그도 모두 문자열로 지정되어 있으므로, 타입을 확인하면 모두 문자로 출력된다. 따라서 다음과 같이 isdigit()을 이용해서 숫자 여부인지를 판별해 구분해본다."
   ]
  },
  {
   "cell_type": "code",
   "execution_count": 18,
   "metadata": {},
   "outputs": [],
   "source": [
    "class Solution:\n",
    "    def reorderLogFiles(self, logs: List[str]) -> List[str]:\n",
    "        log, letters =[], []\n",
    "        \n",
    "        if log.split()[1].isidigit():\n",
    "            digit.append(log)\n",
    "        else:\n",
    "            letters.append(log)\n",
    "            \n",
    "            "
   ]
  },
  {
   "cell_type": "markdown",
   "metadata": {},
   "source": [
    "이 경우 숫자로 변환 가능한 로그는 digits에, 그렇지 않은 경우 문자로그는 letters에 추가된다. 이제 문자 로그는 letters에 모두 모였으므로 다음과 같이 이를 제대로 정렬하기만 하면된다."
   ]
  },
  {
   "cell_type": "code",
   "execution_count": null,
   "metadata": {},
   "outputs": [],
   "source": [
    "letters.sort(key= lambda x: (x.split()[1:], x.split()[0]))"
   ]
  },
  {
   "cell_type": "markdown",
   "metadata": {},
   "source": [
    "여기서는 식별자를 제외한 문자열 [1:]을 키로 하여 정렬하며, 동일한 경우 후순위로 식별자 [0]를 지정해 정렬되도록, 람다 표현식(Lambda Expression)을 이용해 정렬했다. 이제 모두 이어 붙여서 다음과 같이 리턴한다."
   ]
  },
  {
   "cell_type": "code",
   "execution_count": null,
   "metadata": {},
   "outputs": [],
   "source": [
    "return letters + digits"
   ]
  },
  {
   "cell_type": "markdown",
   "metadata": {},
   "source": [
    "+연산자가 무슨 동작을 하는지 궁금할테므로, 다음코드를 살펴보자."
   ]
  },
  {
   "cell_type": "code",
   "execution_count": 21,
   "metadata": {},
   "outputs": [
    {
     "data": {
      "text/plain": [
       "[1, 2, 3, 4, 5, 6]"
      ]
     },
     "execution_count": 21,
     "metadata": {},
     "output_type": "execute_result"
    }
   ],
   "source": [
    "a = [1,2,3]\n",
    "b = [4,5,6]\n",
    "a+b"
   ]
  },
  {
   "cell_type": "markdown",
   "metadata": {},
   "source": [
    "a 변수에 [1,2,3]을 할당하고 b변수에 [4,5,6]을 할당한 후 a + b를 하면 결과는 a변수의값 [1,2,3]과 b변수 [4,5,6]이 차례대로 이어져[1,2,3,4,5,6]이 된다. b + a를 하게 되면 반대로 b 변수의 값 다음에 a 변수의 값이 차례대로 이어져 [4,5,6,1,2,3]이 된다. 이제 전체코드는 다음과 같다. 다른 언어였다면 꽤 길었을 알고리즘인데, 파이썬에서는 몇 줄 안됟는 코드로 다음과 같이 깔끔하게 처리 할 수 있었다."
   ]
  },
  {
   "cell_type": "code",
   "execution_count": 22,
   "metadata": {},
   "outputs": [],
   "source": [
    "def reorderLogFiles(self, logs: List[str]) ->List[str]:\n",
    "    letters, digits =[], []\n",
    "    # 1.문자로그와 숫자로그 분류 : isdigit()사용\n",
    "    for log in logs:\n",
    "        if log.split()[1].isdigit():\n",
    "            digits.append()\n",
    "        else:\n",
    "            letters.append()\n",
    "            \n",
    "    # 2개의 키를 람다 표현식으로 정렬\n",
    "    letters.sort(key = lambda x : (x.split()[1:], x.split()[0]))    \n",
    "    \n",
    "    return letters + digits"
   ]
  },
  {
   "cell_type": "code",
   "execution_count": null,
   "metadata": {},
   "outputs": [],
   "source": []
  },
  {
   "cell_type": "code",
   "execution_count": null,
   "metadata": {},
   "outputs": [],
   "source": []
  },
  {
   "cell_type": "code",
   "execution_count": 13,
   "metadata": {},
   "outputs": [],
   "source": [
    "# 정답 \n",
    "from typing import List\n",
    "\n",
    "class Solution:\n",
    "    def reorderLogFiles(self, logs: List[str]) -> List[str]:\n",
    "        letters, digits = [], []\n",
    "        for log in logs:\n",
    "            if log.split()[1].isdigit():\n",
    "                digits.append(log)\n",
    "            else:\n",
    "                letters.append(log)\n",
    "\n",
    "        # 두 개의 키를 람다 표현식으로 정렬\n",
    "        letters.sort(key=lambda x: (x.split()[1:], x.split()[0]))\n",
    "        return letters + digits"
   ]
  }
 ],
 "metadata": {
  "kernelspec": {
   "display_name": "Python 3",
   "language": "python",
   "name": "python3"
  },
  "language_info": {
   "codemirror_mode": {
    "name": "ipython",
    "version": 3
   },
   "file_extension": ".py",
   "mimetype": "text/x-python",
   "name": "python",
   "nbconvert_exporter": "python",
   "pygments_lexer": "ipython3",
   "version": "3.7.6"
  }
 },
 "nbformat": 4,
 "nbformat_minor": 4
}
