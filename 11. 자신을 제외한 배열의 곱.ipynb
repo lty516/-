{
 "cells": [
  {
   "cell_type": "markdown",
   "metadata": {},
   "source": [
    "### 238. Product of Array Except Self\n",
    "---\n",
    "Given an array nums of n integers where n > 1,  return an array output such that output[i] is equal to the product of all the elements of nums except nums[i].\n",
    "\n",
    "Example:\n",
    "\n",
    "Input:  [1,2,3,4] <br>\n",
    "Output: [24,12,8,6]<br>\n",
    "Constraint: It's guaranteed that the product of the elements of any prefix or suffix of the array (including the whole array) fits in a 32 bit integer."
   ]
  },
  {
   "cell_type": "markdown",
   "metadata": {},
   "source": [
    "### 자신을 제외한 배열의 곱\n",
    "---\n",
    "배열을 입력받아 output[i]가 자신을 제외한 나머지 모든 요소의 곱셈 결과가 되도록 출력하라.\n",
    "\n",
    "* __입력__\n",
    ">   [1,2,3,4]\n",
    "* __출력__\n",
    "> [24,12,8,6]\n",
    "* __주의__ <br>\n",
    " 나눗셈을 하지 않고 _O(n)_ 에 풀이하라"
   ]
  },
  {
   "attachments": {
    "image.png": {
     "image/png": "[encoded data removed]"
    }
   },
   "cell_type": "markdown",
   "metadata": {},
   "source": [
    "### 풀이 1. 왼쪽 곱셈 결과에 오른쪽 값을 차례대로 곱셈\n",
    "---\n",
    "이 문제에서는 중요한 제약사항이 있다. '나눗셈을 하지 않고 _O(n)_ 에 풀이하라'는 점인데 이말은 당장 머릿속에 떠오르는 풀이법인, 미리 전체 곱셈값을 구해놓고 각 항목별로 자기 자신을 나워서 풀이하는 방법은 안된다는 뜻이기도 하다. 그렇다면 풀이 방법은 한 가지뿐이다. 자기 자신을 제외하고 왼쪽의 곱셈결과와 오른쪽의 곱셈 결과를 곱해야한다.\n",
    "\n",
    "![image.png](attachment:image.png)\n",
    "* __그림 7-11__ 왼쪽 곱셈 결과에 오른쪽 값을 차례대로 곱셈하는 풀이\n",
    "\n",
    "먼저 왼쪽부터 곱해서 result에 추가한다. 곱셈 결과는 그래로 out 리스트 변수에 담기게 되며, 마지막 값 곱셈을 제외하여 결과는 [1,1,2,6]이 된다. 이 결과는 그림 7-11에서 확인 할 수 있다. 코드로 구현하면 다음과 같다.\n",
    "\n",
    "    p = 1\n",
    "    for i in range(0,len(nums):\n",
    "        out.append(p)\n",
    "        p = p * nums[i]\n",
    "        \n",
    "이처럼 변수 i가 오른쪽으로 이동하면서 해당 인덱스 값을 곱해 나간 다음, 오른쪽에서 곱해서 넣는다. 여기서 만약 별도의 리스트 변수를 만들고 그 변수에 우측 곱셈 결과를 넣으면, 공간 복잡도는 _O(n)_ 이 된다. 그러나 기존 out 변수를 재활용한다면 공간 복잡도 _O(1)_ 에 풀이가 가능하다. 참고로 출력에 필요한 공간은 공간 복잡도에 포함되지 않는다.\n",
    "\n",
    "    p = 1\n",
    "    for i in range(0, len(nums) -1, 0 - 1, -1)\n",
    "        out[i] = out[i] * p \n",
    "        p = p * nums[i]\n",
    "        \n",
    "이번엔 왼쪽의 곱셈 결과에 오른쪽 마지막 값부터 차례대로 곱해 나간다. for 문의 ragne(x, y, z)에서 세 번째 파라미터인 z는 증분을 지정하는 파라미터며, 여기서는 -1이므로 1씩 줄어드는 형태가 된다. 또한 여기서 p는 1부터 차례대로 점점 커지면서 4, 12, 24가 되고, 최종적으로 이 값이 왼쪽 곱셈 결과에 곱해져 out 변수에는 정답인 [24, 12, 8, 6]을 담게 된다. 그림 7-11에 이 과정이 잘나와 있으며, 전체 코드는 다음과 같다."
   ]
  },
  {
   "cell_type": "code",
   "execution_count": null,
   "metadata": {},
   "outputs": [],
   "source": [
    "def productExceptSelf(self, nums: List[int]) -> List[int]:\n",
    "    out = []\n",
    "    p = 1\n",
    "    # 왼쪽 곱셈\n",
    "    for i in range(0,len(nums)):\n",
    "        out.append(p)\n",
    "        p = p * nums[i]\n",
    "        \n",
    "    p = 1\n",
    "    #오른쪽 곱셈 \n",
    "    for i in range(len(nums) - 1, 0 - 1, -1):\n",
    "        out[i] = out[i] * p \n",
    "        p = p * nums[i]\n",
    "        \n",
    "    return out "
   ]
  }
 ],
 "metadata": {
  "kernelspec": {
   "display_name": "Python 3",
   "language": "python",
   "name": "python3"
  },
  "language_info": {
   "codemirror_mode": {
    "name": "ipython",
    "version": 3
   },
   "file_extension": ".py",
   "mimetype": "text/x-python",
   "name": "python",
   "nbconvert_exporter": "python",
   "pygments_lexer": "ipython3",
   "version": "3.7.6"
  }
 },
 "nbformat": 4,
 "nbformat_minor": 4
}
