{
 "cells": [
  {
   "cell_type": "markdown",
   "metadata": {},
   "source": [
    "### 최댓값과 최솟값\n",
    "---\n",
    "최댓값과 최솟값의 초깃값을 지정하는 방법에는 여러가지가 있다. 최댓값에는 가장 낮은 값을 초깃값으로 해야 어떤 값이든 최댓값이 교체될 수 있고 반대로 최솟값에는 가장 높은 값을 초깃값으로 해야 어떤값이든 최솟값이 바로 교체될 수 있다. 앞서 문제 풀이에는 다음과 같이 sys를 활용했다. 이 모듈을 사용하면 시스템이 지정할 수 있는 가장 높은 값, 낮은 값을 활용할 수 있다.\n",
    "\n",
    "    mx = -sys.maxsize\n",
    "    mn = sys.maxsize\n",
    "    \n",
    "float()을 이용해 다음과 같이 무한대 값을 지정하는 방법도 있다.\n",
    "\n",
    "    mx = float('-inf')\n",
    "    mn = float('inf')\n",
    "    \n",
    " 가장 좋지 않은 방법은 다음과 같이 가장 큰 값을 설정해야 하는데 999999와 같은 임의의 값을 지정하는 것이다. 이렇게 할 경우, 문제가 생길 수 있다. \n",
    " \n",
    "     mn = 999999\n",
    "     \n",
    "파이썬의 숫자형은 임의 정밀도(Arbitrary-Precision)를 지원하며 사실상 무한대의 값을 지정할 수 있다. 아무리 큰수라 할지라도 얼마든지 더 큰수가 지정될 수 있으므로, 이런식의 최솟값 변수에 임의의 값을 초깃값으로 지정하는것은 지양해야 한다. 얼마든지 더 큰 값이 들어와 최솟값이교체 되지 않을 수 있기 때문이다. 사실상 sys.maxsize으로 선언하는 것도 파이썬에서는 큰 의미가 없다. 하지만 일반적인 코딩 테스트의 경우, 모든 언어에 대응하는 공통된 테스트 케이스로 구성되어 있고, 따라서 파이썬에서는 sys.maxsize로 처리하는 정도만으로도 충분히 모든 테스트 케이스를 통과할 수 있을 것이다. <br>\n",
    "대개 코딩 테스트 플랫폼에서는 문제를 자세히 살펴보면, 한쪽 구석에 'n은 0 < n < 5000 사이의"
   ]
  },
  {
   "cell_type": "code",
   "execution_count": null,
   "metadata": {},
   "outputs": [],
   "source": []
  }
 ],
 "metadata": {
  "kernelspec": {
   "display_name": "Python 3",
   "language": "python",
   "name": "python3"
  },
  "language_info": {
   "codemirror_mode": {
    "name": "ipython",
    "version": 3
   },
   "file_extension": ".py",
   "mimetype": "text/x-python",
   "name": "python",
   "nbconvert_exporter": "python",
   "pygments_lexer": "ipython3",
   "version": "3.7.6"
  }
 },
 "nbformat": 4,
 "nbformat_minor": 4
}
