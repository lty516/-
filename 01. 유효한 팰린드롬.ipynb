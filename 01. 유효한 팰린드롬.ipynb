{
 "cells": [
  {
   "cell_type": "markdown",
   "metadata": {},
   "source": [
    "### 125. Valid Palindrome\n",
    "---\n",
    "Given a string, determine if it is a palindrome, considering only alphanumeric characters and ignoring cases.\n",
    "\n",
    "Note: For the purpose of this problem, we define empty string as valid palindrome.\n",
    "\n",
    "---\n",
    "\n",
    "Example 1:\n",
    "\n",
    "Input: \"A man, a plan, a canal: Panama\"\n",
    "Output: true\n",
    "Example 2:\n",
    "\n",
    "Input: \"race a car\"\n",
    "Output: false"
   ]
  },
  {
   "cell_type": "code",
   "execution_count": 3,
   "metadata": {},
   "outputs": [
    {
     "name": "stdout",
     "output_type": "stream",
     "text": [
      "True\n",
      "False\n"
     ]
    }
   ],
   "source": [
    "def isPalindrome(s):\n",
    "        strs = []\n",
    "        for char in s:\n",
    "            if char.isalnum():               # isalnum() : 문자또는 숫자로 구성되어 있으면 True, 아니면 False\n",
    "                strs.append(char.lower())\n",
    "\n",
    "        # 팰린드롬 여부 판별\n",
    "        while len(strs) > 1:                # while문이 \n",
    "            if strs.pop(0) != strs.pop():   \n",
    "                return False\n",
    "\n",
    "        return True\n",
    "    \n",
    "print(isPalindrome(\"A man, a plan, a canal: Panama\")) # True\n",
    "print(isPalindrome(\"race a car\")) #False"
   ]
  },
  {
   "cell_type": "markdown",
   "metadata": {},
   "source": [
    "# Python : 문자열 활용\n",
    "---\n",
    "★isdigit() : 숫자로만 구성되어있으면 True 아니면 False\n",
    "\n",
    "★isalpha() : 글자로 구성되어 있으면 True, 아니면 False\n",
    "\n",
    "★isalnum() : 문자또는 숫자로 구성되어 있으면 True ,아니면 False\n",
    "\n",
    "★islower() : 소문자로 구성되어있을때 True,아니면 False\n",
    "\n",
    "★isupper() : 대문자로 구성되어있을때 True,아니면 False\n",
    "\n",
    "★isspace() : 공백으로 구성되어있을때 True,아니면 False"
   ]
  },
  {
   "cell_type": "code",
   "execution_count": null,
   "metadata": {},
   "outputs": [],
   "source": []
  }
 ],
 "metadata": {
  "kernelspec": {
   "display_name": "Python 3",
   "language": "python",
   "name": "python3"
  },
  "language_info": {
   "codemirror_mode": {
    "name": "ipython",
    "version": 3
   },
   "file_extension": ".py",
   "mimetype": "text/x-python",
   "name": "python",
   "nbconvert_exporter": "python",
   "pygments_lexer": "ipython3",
   "version": "3.7.6"
  }
 },
 "nbformat": 4,
 "nbformat_minor": 4
}
